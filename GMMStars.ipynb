{
  "nbformat": 4,
  "nbformat_minor": 0,
  "metadata": {
    "colab": {
      "name": "GMMStars.ipynb",
      "version": "0.3.2",
      "provenance": [],
      "collapsed_sections": [],
      "include_colab_link": true
    },
    "kernelspec": {
      "name": "python3",
      "display_name": "Python 3"
    }
  },
  "cells": [
    {
      "cell_type": "markdown",
      "metadata": {
        "id": "view-in-github",
        "colab_type": "text"
      },
      "source": [
        "<a href=\"https://colab.research.google.com/github/djgranizo/cx4240_Stars/blob/master/GMMStars.ipynb\" target=\"_parent\"><img src=\"https://colab.research.google.com/assets/colab-badge.svg\" alt=\"Open In Colab\"/></a>"
      ]
    },
    {
      "metadata": {
        "id": "yLDP9nP-RewD",
        "colab_type": "code",
        "colab": {}
      },
      "cell_type": "code",
      "source": [
        "import numpy as np\n",
        "import pandas as pd\n",
        "import matplotlib.pyplot as plt\n",
        "from sklearn.mixture import GaussianMixture as GMM\n",
        "from sklearn.decomposition import PCA"
      ],
      "execution_count": 0,
      "outputs": []
    },
    {
      "metadata": {
        "id": "hfhScr1nrY1Y",
        "colab_type": "code",
        "colab": {}
      },
      "cell_type": "code",
      "source": [
        "# Accessing Data\n",
        "\n",
        "from google.colab import auth\n",
        "auth.authenticate_user()\n",
        "\n",
        "import gspread\n",
        "from oauth2client.client import GoogleCredentials\n",
        "\n",
        "gc = gspread.authorize(GoogleCredentials.get_application_default())\n",
        "\n",
        "def isFloat(string):\n",
        "    try:\n",
        "        float(string)\n",
        "        return True\n",
        "    except ValueError:\n",
        "        return False\n",
        "\n",
        "# Open our new sheet and read some data.\n",
        "worksheet = gc.open('Numeric Hypatia Data').sheet1\n",
        "rows = worksheet.get_all_values()\n",
        "headers = rows[0]\n",
        "star_data = np.array([[float(x) if isFloat(x) else np.nan for x in row ] for row in rows[1:]])\n",
        "#star_data\n",
        "numstars = len(star_data)\n",
        "\n",
        "col_mean = np.nanmean(star_data, axis=0)\n",
        "inds = np.where(np.isnan(star_data))\n",
        "star_data[inds] = np.take(col_mean, inds[1])\n",
        "#star_data\n",
        "\n",
        "#star_data[:,15]"
      ],
      "execution_count": 0,
      "outputs": []
    },
    {
      "metadata": {
        "id": "PuqugQ_3rQmk",
        "colab_type": "code",
        "colab": {}
      },
      "cell_type": "code",
      "source": [
        "\"\"\"Evaluate GMM at each star and assign each star to the \n",
        "cluster that it has the highest probability of belonging to\"\"\" \n",
        "\n",
        "gmm = GMM(n_components=4) #4 clusters: F, G, K, and M\n",
        "gmm.fit(star_data)\n",
        "\n",
        "clusters_means = gmm.means_\n",
        "cluster_weights_ = gmm.weights_\n",
        "cluster_covariance = gmm.covariances_\n",
        "\n",
        "clusterAssignment = gmm.fit_predict(star_data)\n",
        "probabilities = gmm.predict_proba(star_data)"
      ],
      "execution_count": 0,
      "outputs": []
    },
    {
      "metadata": {
        "id": "aN0a1JIz5Fqt",
        "colab_type": "code",
        "outputId": "0f66608a-cdc0-4560-9f38-80e688d22f50",
        "colab": {
          "base_uri": "https://localhost:8080/",
          "height": 34
        }
      },
      "cell_type": "code",
      "source": [
        "#this block creates <hostprobability> array, with length numclusters, which calculates the probability of planet host in each cluster\n",
        "clusterAssignments=clusterAssignment\n",
        "numclusters=4\n",
        "hostprobability=[]\n",
        "hostdata=star_data[:,-1]\n",
        "starspercluster=np.zeros(numclusters)\n",
        "for c in range(numclusters):\n",
        "  for assignment in clusterAssignment:\n",
        "    if(assignment==c):\n",
        "      starspercluster[c]=starspercluster[c]+1\n",
        "for c in range(numclusters):\n",
        "  numstars=starspercluster[c]\n",
        "  numhosts=0\n",
        "  for a in range(len(clusterAssignments)):\n",
        "    assignment=clusterAssignment[a]\n",
        "    if assignment==c:\n",
        "      numstars=numstars+1\n",
        "      if (hostdata[a]==1):\n",
        "        numhosts=numhosts+1\n",
        "  hostprobability.append(numhosts/numstars)\n",
        "print(hostprobability)"
      ],
      "execution_count": 0,
      "outputs": [
        {
          "output_type": "stream",
          "text": [
            "[0.07520325203252033, 0.007097791798107256, 0.2, 0.0]\n"
          ],
          "name": "stdout"
        }
      ]
    },
    {
      "metadata": {
        "id": "eO-insZg-HuH",
        "colab_type": "code",
        "outputId": "601e5116-069e-47b7-bd3e-f0db045cf4dc",
        "colab": {
          "base_uri": "https://localhost:8080/",
          "height": 51
        }
      },
      "cell_type": "code",
      "source": [
        "#this block creates purity test to compare our cluster assignments to spectral class\n",
        "spectraltype=star_data[:,15] #this the the spectral class assignment for each star--this needs to be imported from the spreadsheet--should be a number 1-4\n",
        "clusterassignments=clusterAssignment\n",
        "purities=[] #purity for each cluster\n",
        "clusters=[i for i in range(numclusters)]\n",
        "print(\"spectral types: \"+str(spectraltype))\n",
        "for c in range(numclusters): #for each cluster, evaluate purity\n",
        "  starsincluster=[]\n",
        "  for i in range(len(clusterassignments)):\n",
        "    assignment=clusterassignments[i] #cluster assignment of star i\n",
        "    if assignment==c:\n",
        "      starsincluster.append(i)\n",
        "  numspectraltype=np.ones(40) #calculate the number of stars of each spectral type, save it to this array--this is an array that looks like [500,251,30,65]\n",
        "  #, where this cluster has 500 stars that are spectral type 1\n",
        "  for cc in range(len(clusters)):\n",
        "    for s in range(len(starsincluster)):\n",
        "      currspectraltype=spectraltype[s] #this is a number 1-30\n",
        "      numspectraltype[int(currspectraltype)]=numspectraltype[int(currspectraltype)]+1 #increment the number of stars of the spectral type that was found here\n",
        "  numspectraltype=numspectraltype/len(starsincluster) #normalize by total # stars in this cluster to get the percent probabilities-this is an array that looks like \n",
        "  #[0.59, 0.29, 0.03, 0.07], where 0.59 of the stars in this cluster are spectral type 1\n",
        "  maxindex=0\n",
        "  maxval=0\n",
        "  for i in range(len(numspectraltype)):\n",
        "    if(numspectraltype[i] > maxval):\n",
        "      maxval=numspectraltype[i]\n",
        "      maxindex=i\n",
        "  purities.append(maxval) # so the purity of the above example would be 0.59\n",
        "print(\"purities: \"+str(purities))"
      ],
      "execution_count": 0,
      "outputs": [
        {
          "output_type": "stream",
          "text": [
            "spectral types: [11. 10. 10. ... 25. 35. 10.]\n",
            "purities: [0.491869918699187, 0.48738170347003157, 0.47215189873417723, 0.45586268390548373]\n"
          ],
          "name": "stdout"
        }
      ]
    },
    {
      "metadata": {
        "id": "I39DF8vHGeev",
        "colab_type": "code",
        "outputId": "2c6e984e-a848-4ede-c9d3-776aa6e30fe5",
        "colab": {
          "base_uri": "https://localhost:8080/",
          "height": 419
        }
      },
      "cell_type": "code",
      "source": [
        "'''\n",
        "def centerX(star_data):\n",
        "  return star_data-np.mean(star_data, axis = 0)\n",
        "    \n",
        "def svd(X):\n",
        "  U, S, V = np.linalg.svd(X)\n",
        "  return U, S, V\n",
        "  \n",
        "def rebuildX(U, S, V, k):\n",
        "  S = np.diag(S)[:k,:k]\n",
        "  print(U.shape)\n",
        "  U = U[:, :k]\n",
        "  UkSk = np.matmul(U, S)\n",
        "  V = V[:, :k]\n",
        "  UkSkVk = np.matmul(UkSk, V)\n",
        "  \n",
        "  #return np.matmul(     np.matmul(U[:, [i for i in range(k)]], np.diag(S)[:k, :k])            , V[0:k])\n",
        "\n",
        "X = centerX(star_data)\n",
        "U, S, V = svd(X)\n",
        "print(U.shape)\n",
        "print(V.shape)\n",
        "print(S.shape)\n",
        "k = 2\n",
        "dim_red = rebuildX(U, S, V, 2)\n",
        "#print(dim_red)\n",
        "\n",
        "print(dim_red.shape)\n",
        "'''\n",
        "\n",
        "sklearn.decomposition.PCA(n_components=2, copy=True, whiten=False, svd_solver=’auto’, tol=0.0, iterated_power=’auto’, random_state=None)"
      ],
      "execution_count": 0,
      "outputs": [
        {
          "output_type": "stream",
          "text": [
            "(6156, 6156)\n",
            "(24, 24)\n",
            "(24,)\n",
            "(6156, 6156)\n"
          ],
          "name": "stdout"
        },
        {
          "output_type": "error",
          "ename": "ValueError",
          "evalue": "ignored",
          "traceback": [
            "\u001b[0;31m---------------------------------------------------------------------------\u001b[0m",
            "\u001b[0;31mValueError\u001b[0m                                Traceback (most recent call last)",
            "\u001b[0;32m<ipython-input-10-22c4323fec69>\u001b[0m in \u001b[0;36m<module>\u001b[0;34m()\u001b[0m\n\u001b[1;32m     22\u001b[0m \u001b[0mprint\u001b[0m\u001b[0;34m(\u001b[0m\u001b[0mS\u001b[0m\u001b[0;34m.\u001b[0m\u001b[0mshape\u001b[0m\u001b[0;34m)\u001b[0m\u001b[0;34m\u001b[0m\u001b[0;34m\u001b[0m\u001b[0m\n\u001b[1;32m     23\u001b[0m \u001b[0mk\u001b[0m \u001b[0;34m=\u001b[0m \u001b[0;36m2\u001b[0m\u001b[0;34m\u001b[0m\u001b[0;34m\u001b[0m\u001b[0m\n\u001b[0;32m---> 24\u001b[0;31m \u001b[0mdim_red\u001b[0m \u001b[0;34m=\u001b[0m \u001b[0mrebuildX\u001b[0m\u001b[0;34m(\u001b[0m\u001b[0mU\u001b[0m\u001b[0;34m,\u001b[0m \u001b[0mS\u001b[0m\u001b[0;34m,\u001b[0m \u001b[0mV\u001b[0m\u001b[0;34m,\u001b[0m \u001b[0;36m2\u001b[0m\u001b[0;34m)\u001b[0m\u001b[0;34m\u001b[0m\u001b[0;34m\u001b[0m\u001b[0m\n\u001b[0m\u001b[1;32m     25\u001b[0m \u001b[0;31m#print(dim_red)\u001b[0m\u001b[0;34m\u001b[0m\u001b[0;34m\u001b[0m\u001b[0;34m\u001b[0m\u001b[0m\n\u001b[1;32m     26\u001b[0m \u001b[0;34m\u001b[0m\u001b[0m\n",
            "\u001b[0;32m<ipython-input-10-22c4323fec69>\u001b[0m in \u001b[0;36mrebuildX\u001b[0;34m(U, S, V, k)\u001b[0m\n\u001b[1;32m     12\u001b[0m   \u001b[0mUkSk\u001b[0m \u001b[0;34m=\u001b[0m \u001b[0mnp\u001b[0m\u001b[0;34m.\u001b[0m\u001b[0mmatmul\u001b[0m\u001b[0;34m(\u001b[0m\u001b[0mU\u001b[0m\u001b[0;34m,\u001b[0m \u001b[0mS\u001b[0m\u001b[0;34m)\u001b[0m\u001b[0;34m\u001b[0m\u001b[0;34m\u001b[0m\u001b[0m\n\u001b[1;32m     13\u001b[0m   \u001b[0mV\u001b[0m \u001b[0;34m=\u001b[0m \u001b[0mV\u001b[0m\u001b[0;34m[\u001b[0m\u001b[0;34m:\u001b[0m\u001b[0;34m,\u001b[0m \u001b[0;34m:\u001b[0m\u001b[0mk\u001b[0m\u001b[0;34m]\u001b[0m\u001b[0;34m\u001b[0m\u001b[0;34m\u001b[0m\u001b[0m\n\u001b[0;32m---> 14\u001b[0;31m   \u001b[0mUkSkVk\u001b[0m \u001b[0;34m=\u001b[0m \u001b[0mnp\u001b[0m\u001b[0;34m.\u001b[0m\u001b[0mmatmul\u001b[0m\u001b[0;34m(\u001b[0m\u001b[0mUkSk\u001b[0m\u001b[0;34m,\u001b[0m \u001b[0mV\u001b[0m\u001b[0;34m)\u001b[0m\u001b[0;34m\u001b[0m\u001b[0;34m\u001b[0m\u001b[0m\n\u001b[0m\u001b[1;32m     15\u001b[0m \u001b[0;34m\u001b[0m\u001b[0m\n\u001b[1;32m     16\u001b[0m   \u001b[0;31m#return np.matmul(     np.matmul(U[:, [i for i in range(k)]], np.diag(S)[:k, :k])            , V[0:k])\u001b[0m\u001b[0;34m\u001b[0m\u001b[0;34m\u001b[0m\u001b[0;34m\u001b[0m\u001b[0m\n",
            "\u001b[0;31mValueError\u001b[0m: shapes (6156,2) and (24,2) not aligned: 2 (dim 1) != 24 (dim 0)"
          ]
        }
      ]
    }
  ]
}